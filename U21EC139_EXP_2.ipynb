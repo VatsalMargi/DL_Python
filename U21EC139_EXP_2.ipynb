{
 "cells": [
  {
   "cell_type": "markdown",
   "id": "249a7edd-cb81-4729-93bf-be96582632a9",
   "metadata": {},
   "source": [
    "U21EC139 - Vatsal Margi\n",
    "\n",
    "## Experiment 2\n"
   ]
  },
  {
   "cell_type": "markdown",
   "id": "74b3fbdc-b456-460e-85f5-8e82f8c5f9cb",
   "metadata": {},
   "source": [
    "_AIM :_\n",
    "\n",
    "1. Write a python program to check if a given number is prime.\n",
    "2. Create a list containing numbers 1 to 100. One by one check if the element is even or odd. Create a dictionary with\n",
    "   keys \"even\" and \"odd\", Store the respective values in the dictionary.\n"
   ]
  },
  {
   "cell_type": "markdown",
   "id": "b14505ab-85a8-47ea-b852-b58664bc0f0e",
   "metadata": {},
   "source": [
    "## Check prime number\n"
   ]
  },
  {
   "cell_type": "code",
   "execution_count": 9,
   "id": "8ea1dd3b-be72-4471-90c5-e2258b67824b",
   "metadata": {},
   "outputs": [],
   "source": [
    "def is_prime(n):\n",
    "    if n <= 1:\n",
    "        return False\n",
    "    for i in range(2, int(n**0.5) + 1):\n",
    "        if n % i == 0:\n",
    "            return False\n",
    "    return True"
   ]
  },
  {
   "cell_type": "code",
   "execution_count": 10,
   "id": "49ec1b82-bfa6-47b1-be17-b0825d57b760",
   "metadata": {},
   "outputs": [
    {
     "data": {
      "text/plain": [
       "False"
      ]
     },
     "execution_count": 10,
     "metadata": {},
     "output_type": "execute_result"
    }
   ],
   "source": [
    "is_prime(10)"
   ]
  },
  {
   "cell_type": "code",
   "execution_count": 11,
   "id": "f963ae48-a4f1-4af2-bb6a-9f5dc0d702ae",
   "metadata": {},
   "outputs": [
    {
     "data": {
      "text/plain": [
       "True"
      ]
     },
     "execution_count": 11,
     "metadata": {},
     "output_type": "execute_result"
    }
   ],
   "source": [
    "is_prime(13)"
   ]
  },
  {
   "cell_type": "markdown",
   "id": "e1999eb1-a00a-4a7e-810c-78431f0bc3d3",
   "metadata": {},
   "source": [
    "## Even - Odd Dictionary\n"
   ]
  },
  {
   "cell_type": "code",
   "execution_count": 12,
   "id": "57e8cd8b-aa6a-4ad1-b286-c775e70d58ed",
   "metadata": {},
   "outputs": [],
   "source": [
    "numbers = list(range(1, 101))"
   ]
  },
  {
   "cell_type": "code",
   "execution_count": 13,
   "id": "8ca5bfe1-b045-47de-be69-032b865828fa",
   "metadata": {},
   "outputs": [],
   "source": [
    "result = {\"even\": [], \"odd\": []}"
   ]
  },
  {
   "cell_type": "code",
   "execution_count": 14,
   "id": "160481a8-0cd6-420c-ab7c-4521e23be6e6",
   "metadata": {},
   "outputs": [],
   "source": [
    "for num in numbers:\n",
    "    if num % 2 == 0:\n",
    "        result[\"even\"].append(num)\n",
    "    else:\n",
    "        result[\"odd\"].append(num)"
   ]
  },
  {
   "cell_type": "code",
   "execution_count": 15,
   "id": "a0e6133d-a14c-4239-9a92-d71a973018b6",
   "metadata": {},
   "outputs": [
    {
     "name": "stdout",
     "output_type": "stream",
     "text": [
      "even_numbers : [2, 4, 6, 8, 10, 12, 14, 16, 18, 20, 22, 24, 26, 28, 30, 32, 34, 36, 38, 40, 42, 44, 46, 48, 50, 52, 54, 56, 58, 60, 62, 64, 66, 68, 70, 72, 74, 76, 78, 80, 82, 84, 86, 88, 90, 92, 94, 96, 98, 100]\n"
     ]
    }
   ],
   "source": [
    "print(\"even_numbers :\", result[\"even\"])"
   ]
  },
  {
   "cell_type": "code",
   "execution_count": 16,
   "id": "2f3f4c91-4440-4c82-b0f2-f9a30d5da70e",
   "metadata": {},
   "outputs": [
    {
     "name": "stdout",
     "output_type": "stream",
     "text": [
      "odd_numbers: [1, 3, 5, 7, 9, 11, 13, 15, 17, 19, 21, 23, 25, 27, 29, 31, 33, 35, 37, 39, 41, 43, 45, 47, 49, 51, 53, 55, 57, 59, 61, 63, 65, 67, 69, 71, 73, 75, 77, 79, 81, 83, 85, 87, 89, 91, 93, 95, 97, 99]\n"
     ]
    }
   ],
   "source": [
    "print(\"odd_numbers:\", result[\"odd\"])"
   ]
  }
 ],
 "metadata": {
  "kernelspec": {
   "display_name": "Python 3.11.4 64-bit",
   "language": "python",
   "name": "python3"
  },
  "language_info": {
   "codemirror_mode": {
    "name": "ipython",
    "version": 3
   },
   "file_extension": ".py",
   "mimetype": "text/x-python",
   "name": "python",
   "nbconvert_exporter": "python",
   "pygments_lexer": "ipython3",
   "version": "3.11.4"
  },
  "vscode": {
   "interpreter": {
    "hash": "c261aea317cc0286b3b3261fbba9abdec21eaa57589985bb7a274bf54d6cc0a7"
   }
  }
 },
 "nbformat": 4,
 "nbformat_minor": 5
}
