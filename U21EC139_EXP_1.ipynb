{
 "cells": [
  {
   "cell_type": "markdown",
   "id": "87cd040c-598d-427b-98af-6ad1a8d5dfa1",
   "metadata": {},
   "source": [
    "U21EC139 - Vatsal Margi\n",
    "\n",
    "# Experiment 1\n"
   ]
  },
  {
   "cell_type": "markdown",
   "id": "17d1d5d9-ba57-42cc-a12e-1bce4a6b0683",
   "metadata": {},
   "source": [
    "_AIM :_\n",
    "\n",
    "1. Create two variables, assign any value to them, find their data types, perform some mathematical operations.\n",
    "2. Create a variable with any string and perform string manipulation.\n"
   ]
  },
  {
   "cell_type": "code",
   "execution_count": 5,
   "id": "63969ed2-3c7e-49b3-bd1c-e6c7d6548e60",
   "metadata": {},
   "outputs": [],
   "source": [
    "a = 22\n",
    "b = 10\n",
    "c = \"Hello World I am here !!!\"\n",
    "d = True"
   ]
  },
  {
   "cell_type": "code",
   "execution_count": 6,
   "id": "a193259e-199a-44db-b4de-dcfbe2a09b03",
   "metadata": {},
   "outputs": [
    {
     "data": {
      "text/plain": [
       "int"
      ]
     },
     "execution_count": 6,
     "metadata": {},
     "output_type": "execute_result"
    }
   ],
   "source": [
    "type(a)"
   ]
  },
  {
   "cell_type": "code",
   "execution_count": 26,
   "id": "ccc653bc-9307-4cdc-a681-b4849716853b",
   "metadata": {},
   "outputs": [
    {
     "data": {
      "text/plain": [
       "str"
      ]
     },
     "execution_count": 26,
     "metadata": {},
     "output_type": "execute_result"
    }
   ],
   "source": [
    "type(c)"
   ]
  },
  {
   "cell_type": "code",
   "execution_count": 27,
   "id": "0d90fb62-63e4-42a7-8b34-e37ebdbbb063",
   "metadata": {},
   "outputs": [
    {
     "data": {
      "text/plain": [
       "bool"
      ]
     },
     "execution_count": 27,
     "metadata": {},
     "output_type": "execute_result"
    }
   ],
   "source": [
    "type(d)"
   ]
  },
  {
   "cell_type": "code",
   "execution_count": 28,
   "id": "8d73faba-8309-47db-8046-816860df1e19",
   "metadata": {},
   "outputs": [
    {
     "data": {
      "text/plain": [
       "32"
      ]
     },
     "execution_count": 28,
     "metadata": {},
     "output_type": "execute_result"
    }
   ],
   "source": [
    "a + b"
   ]
  },
  {
   "cell_type": "code",
   "execution_count": 3,
   "id": "2b364061-154c-46c3-8746-66fb71bf27e2",
   "metadata": {},
   "outputs": [
    {
     "ename": "NameError",
     "evalue": "name 'a' is not defined",
     "output_type": "error",
     "traceback": [
      "\u001b[1;31m---------------------------------------------------------------------------\u001b[0m",
      "\u001b[1;31mNameError\u001b[0m                                 Traceback (most recent call last)",
      "Cell \u001b[1;32mIn[3], line 1\u001b[0m\n\u001b[1;32m----> 1\u001b[0m \u001b[43ma\u001b[49m \u001b[38;5;241m-\u001b[39m b\n",
      "\u001b[1;31mNameError\u001b[0m: name 'a' is not defined"
     ]
    }
   ],
   "source": [
    "a - b"
   ]
  },
  {
   "cell_type": "code",
   "execution_count": 30,
   "id": "03d079b4-32b1-4b5b-ae91-e40acfd6f391",
   "metadata": {},
   "outputs": [
    {
     "data": {
      "text/plain": [
       "2"
      ]
     },
     "execution_count": 30,
     "metadata": {},
     "output_type": "execute_result"
    }
   ],
   "source": [
    "a % b"
   ]
  },
  {
   "cell_type": "code",
   "execution_count": 31,
   "id": "314ebdd3-cf24-4f16-8992-8419b09dc3e1",
   "metadata": {},
   "outputs": [
    {
     "data": {
      "text/plain": [
       "False"
      ]
     },
     "execution_count": 31,
     "metadata": {},
     "output_type": "execute_result"
    }
   ],
   "source": [
    "a < b"
   ]
  },
  {
   "cell_type": "code",
   "execution_count": 32,
   "id": "a44d1a17-317a-48ed-b325-eff80c67d341",
   "metadata": {},
   "outputs": [
    {
     "data": {
      "text/plain": [
       "'Hello World I am here !!!Hello World I am here !!!Hello World I am here !!!Hello World I am here !!!Hello World I am here !!!Hello World I am here !!!Hello World I am here !!!Hello World I am here !!!Hello World I am here !!!Hello World I am here !!!Hello World I am here !!!Hello World I am here !!!Hello World I am here !!!Hello World I am here !!!Hello World I am here !!!Hello World I am here !!!Hello World I am here !!!Hello World I am here !!!Hello World I am here !!!Hello World I am here !!!Hello World I am here !!!Hello World I am here !!!'"
      ]
     },
     "execution_count": 32,
     "metadata": {},
     "output_type": "execute_result"
    }
   ],
   "source": [
    "a * c"
   ]
  },
  {
   "cell_type": "code",
   "execution_count": 33,
   "id": "03d5a539-9278-4220-912f-b2b46cf215b2",
   "metadata": {},
   "outputs": [
    {
     "data": {
      "text/plain": [
       "'HELLO WORLD I AM HERE !!!'"
      ]
     },
     "execution_count": 33,
     "metadata": {},
     "output_type": "execute_result"
    }
   ],
   "source": [
    "c.upper()"
   ]
  },
  {
   "cell_type": "code",
   "execution_count": 2,
   "id": "03f69c6e-4394-41ab-8df1-70fe981b2ba3",
   "metadata": {},
   "outputs": [
    {
     "ename": "NameError",
     "evalue": "name 'c' is not defined",
     "output_type": "error",
     "traceback": [
      "\u001b[1;31m---------------------------------------------------------------------------\u001b[0m",
      "\u001b[1;31mNameError\u001b[0m                                 Traceback (most recent call last)",
      "Cell \u001b[1;32mIn[2], line 1\u001b[0m\n\u001b[1;32m----> 1\u001b[0m \u001b[43mc\u001b[49m\u001b[38;5;241m.\u001b[39msplit(\u001b[38;5;124m'\u001b[39m\u001b[38;5;124me\u001b[39m\u001b[38;5;124m'\u001b[39m)\n",
      "\u001b[1;31mNameError\u001b[0m: name 'c' is not defined"
     ]
    }
   ],
   "source": [
    "c.split('e')"
   ]
  }
 ],
 "metadata": {
  "kernelspec": {
   "display_name": "Python 3.11.4 64-bit",
   "language": "python",
   "name": "python3"
  },
  "language_info": {
   "codemirror_mode": {
    "name": "ipython",
    "version": 3
   },
   "file_extension": ".py",
   "mimetype": "text/x-python",
   "name": "python",
   "nbconvert_exporter": "python",
   "pygments_lexer": "ipython3",
   "version": "3.11.4"
  },
  "vscode": {
   "interpreter": {
    "hash": "c261aea317cc0286b3b3261fbba9abdec21eaa57589985bb7a274bf54d6cc0a7"
   }
  }
 },
 "nbformat": 4,
 "nbformat_minor": 5
}
